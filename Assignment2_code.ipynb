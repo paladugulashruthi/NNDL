{
  "nbformat": 4,
  "nbformat_minor": 0,
  "metadata": {
    "colab": {
      "name": "Assignment2 code.ipynb",
      "provenance": [],
      "authorship_tag": "ABX9TyO8Cj8qWd0IRHSPg+IJRqTx",
      "include_colab_link": true
    },
    "kernelspec": {
      "name": "python3",
      "display_name": "Python 3"
    },
    "language_info": {
      "name": "python"
    }
  },
  "cells": [
    {
      "cell_type": "markdown",
      "metadata": {
        "id": "view-in-github",
        "colab_type": "text"
      },
      "source": [
        "<a href=\"https://colab.research.google.com/github/paladugulashruthi/NNDL/blob/main/Assignment2_code.ipynb\" target=\"_parent\"><img src=\"https://colab.research.google.com/assets/colab-badge.svg\" alt=\"Open In Colab\"/></a>"
      ]
    },
    {
      "cell_type": "code",
      "metadata": {
        "colab": {
          "base_uri": "https://localhost:8080/"
        },
        "id": "SlGb8rUiTiFt",
        "outputId": "11072bb3-8c99-46f8-a159-b6c12f95c279"
      },
      "source": [
        "from sympy import Symbol, Derivative, symbols\n",
        "x= Symbol('x')\n",
        "y= Symbol('y')\n",
        "function = x**2 + y**2 + 10\n",
        "partialderivative= Derivative(function, y)\n",
        "dfy = partialderivative.doit()\n",
        "partialderivative= Derivative(function, x)\n",
        "dfx = partialderivative.doit()\n",
        "x1 = -1.0 \n",
        "y1 = 2.0\n",
        "itr = 100  \n",
        "learningrate = 0.1 \n",
        "for i in range(0,itr):\n",
        "    x = symbols('x')\n",
        "    y = symbols('y')\n",
        "    dfxv = dfx.subs(x, x1) \n",
        "    dfxv = round(dfxv,2)\n",
        "    dfyv = dfy.subs(y, y1) \n",
        "    dfyv = round(dfyv,2)\n",
        "    dx = (-1.0)*learningrate*dfxv\n",
        "    dy = (-1.0)*learningrate*dfyv\n",
        "    x1 = x1 + dx\n",
        "    x1 = round(x1, 2) \n",
        "    y1 = y1 + dy\n",
        "    y1 = round(y1, 2)\n",
        "print(x1, y1)\n",
        "print(f'minimum value obtained at x = {x1} ,y ={y1} for given function')"
      ],
      "execution_count": 1,
      "outputs": [
        {
          "output_type": "stream",
          "text": [
            "-0.02 0.02\n",
            "minimum value obtained at x = -0.02 ,y =0.02 for given function\n"
          ],
          "name": "stdout"
        }
      ]
    }
  ]
}